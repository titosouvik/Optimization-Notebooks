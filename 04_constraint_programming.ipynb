{
 "cells": [
  {
   "cell_type": "markdown",
   "metadata": {},
   "source": [
    "## Constraints are more important than Objective functions"
   ]
  },
  {
   "cell_type": "markdown",
   "metadata": {},
   "source": [
    "#### Objective function:\n",
    "\n",
    "Maximize 2*x + 2*y + 3*z\n",
    "\n",
    "Constraints:\n",
    "\n",
    "x + (7/2)*y + (3/2)*z <= 25\n",
    "\n",
    "3*x - 5*y + 7*z <= 45\n",
    "\n",
    "5*x + 2*y -6*z <= 37\n",
    "\n",
    "x,y,z >= 0\n",
    "\n",
    "x,y,z integers\n",
    "\n"
   ]
  },
  {
   "cell_type": "code",
   "execution_count": 1,
   "metadata": {},
   "outputs": [],
   "source": [
    "from ortools.sat.python import cp_model"
   ]
  },
  {
   "cell_type": "code",
   "execution_count": 2,
   "metadata": {},
   "outputs": [],
   "source": [
    "model = cp_model.CpModel()"
   ]
  },
  {
   "cell_type": "code",
   "execution_count": 6,
   "metadata": {},
   "outputs": [],
   "source": [
    "x = model.NewIntVar(0, 100,'x')\n",
    "y = model.NewIntVar(0, 100,'y')\n",
    "z = model.NewIntVar(0, 100,'z')"
   ]
  },
  {
   "cell_type": "code",
   "execution_count": 10,
   "metadata": {},
   "outputs": [
    {
     "data": {
      "text/plain": [
       "<ortools.sat.python.cp_model.Constraint at 0x7f648fbc8d60>"
      ]
     },
     "execution_count": 10,
     "metadata": {},
     "output_type": "execute_result"
    }
   ],
   "source": [
    "model.Add(2*x + 7*y + 3*z <=50)\n",
    "model.Add(3*x - 5*y + 7*z <=45)\n",
    "model.Add(5*x + 2*y - 6*z <=37)"
   ]
  },
  {
   "cell_type": "code",
   "execution_count": 11,
   "metadata": {},
   "outputs": [],
   "source": [
    "model.Maximize(2*x + 2*y + 3*z)"
   ]
  },
  {
   "cell_type": "code",
   "execution_count": 14,
   "metadata": {},
   "outputs": [],
   "source": [
    "solver = cp_model.CpSolver()\n",
    "\n",
    "status = solver.Solve(model)"
   ]
  },
  {
   "cell_type": "code",
   "execution_count": 17,
   "metadata": {},
   "outputs": [
    {
     "name": "stdout",
     "output_type": "stream",
     "text": [
      "Status= OPTIMAL\n",
      "OBj Fn : 35.0\n",
      "x : 7\n",
      "y : 3\n",
      "z : 5\n"
     ]
    }
   ],
   "source": [
    "print('Status=', solver.StatusName(status))\n",
    "\n",
    "print('OBj Fn :', solver.ObjectiveValue())\n",
    "\n",
    "print('x :', solver.Value(x))\n",
    "\n",
    "print('y :', solver.Value(y))\n",
    "\n",
    "print('z :', solver.Value(z))"
   ]
  },
  {
   "cell_type": "code",
   "execution_count": null,
   "metadata": {},
   "outputs": [],
   "source": []
  }
 ],
 "metadata": {
  "kernelspec": {
   "display_name": "Python 3.8.13 ('opt-env')",
   "language": "python",
   "name": "python3"
  },
  "language_info": {
   "codemirror_mode": {
    "name": "ipython",
    "version": 3
   },
   "file_extension": ".py",
   "mimetype": "text/x-python",
   "name": "python",
   "nbconvert_exporter": "python",
   "pygments_lexer": "ipython3",
   "version": "3.8.13"
  },
  "orig_nbformat": 4,
  "vscode": {
   "interpreter": {
    "hash": "6b9056ea96c75a6bb2c54be3bbd461fe96ab3f772e39386dd61ca834c469880f"
   }
  }
 },
 "nbformat": 4,
 "nbformat_minor": 2
}
