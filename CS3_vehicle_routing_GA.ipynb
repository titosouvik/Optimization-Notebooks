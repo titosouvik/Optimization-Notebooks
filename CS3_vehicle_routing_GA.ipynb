{
 "cells": [
  {
   "cell_type": "markdown",
   "metadata": {},
   "source": [
    "## Solving vehicle Routing with genetic Algorithm\n",
    "\n",
    "![](2022-10-18-10-44-01.png)"
   ]
  },
  {
   "cell_type": "code",
   "execution_count": 1,
   "metadata": {},
   "outputs": [],
   "source": [
    "import pandas as pd, numpy as np\n",
    "from geneticalgorithm import geneticalgorithm as ga"
   ]
  },
  {
   "cell_type": "code",
   "execution_count": 2,
   "metadata": {},
   "outputs": [],
   "source": [
    "#inputs\n",
    "nodes = pd.read_excel('data/route_inputs.xlsx', sheet_name='nodes')\n",
    "paths = pd.read_excel('data/route_inputs.xlsx', sheet_name='paths')\n"
   ]
  },
  {
   "cell_type": "code",
   "execution_count": 3,
   "metadata": {},
   "outputs": [
    {
     "data": {
      "text/html": [
       "<div>\n",
       "<style scoped>\n",
       "    .dataframe tbody tr th:only-of-type {\n",
       "        vertical-align: middle;\n",
       "    }\n",
       "\n",
       "    .dataframe tbody tr th {\n",
       "        vertical-align: top;\n",
       "    }\n",
       "\n",
       "    .dataframe thead th {\n",
       "        text-align: right;\n",
       "    }\n",
       "</style>\n",
       "<table border=\"1\" class=\"dataframe\">\n",
       "  <thead>\n",
       "    <tr style=\"text-align: right;\">\n",
       "      <th></th>\n",
       "      <th>node</th>\n",
       "      <th>description</th>\n",
       "    </tr>\n",
       "  </thead>\n",
       "  <tbody>\n",
       "    <tr>\n",
       "      <th>0</th>\n",
       "      <td>1</td>\n",
       "      <td>origin</td>\n",
       "    </tr>\n",
       "    <tr>\n",
       "      <th>1</th>\n",
       "      <td>2</td>\n",
       "      <td>middle point</td>\n",
       "    </tr>\n",
       "    <tr>\n",
       "      <th>2</th>\n",
       "      <td>3</td>\n",
       "      <td>middle point</td>\n",
       "    </tr>\n",
       "    <tr>\n",
       "      <th>3</th>\n",
       "      <td>4</td>\n",
       "      <td>middle point</td>\n",
       "    </tr>\n",
       "    <tr>\n",
       "      <th>4</th>\n",
       "      <td>5</td>\n",
       "      <td>middle point</td>\n",
       "    </tr>\n",
       "    <tr>\n",
       "      <th>5</th>\n",
       "      <td>6</td>\n",
       "      <td>middle point</td>\n",
       "    </tr>\n",
       "    <tr>\n",
       "      <th>6</th>\n",
       "      <td>7</td>\n",
       "      <td>destination</td>\n",
       "    </tr>\n",
       "  </tbody>\n",
       "</table>\n",
       "</div>"
      ],
      "text/plain": [
       "   node   description\n",
       "0     1        origin\n",
       "1     2  middle point\n",
       "2     3  middle point\n",
       "3     4  middle point\n",
       "4     5  middle point\n",
       "5     6  middle point\n",
       "6     7   destination"
      ]
     },
     "execution_count": 3,
     "metadata": {},
     "output_type": "execute_result"
    }
   ],
   "source": [
    "nodes"
   ]
  },
  {
   "cell_type": "code",
   "execution_count": 4,
   "metadata": {},
   "outputs": [
    {
     "data": {
      "text/html": [
       "<div>\n",
       "<style scoped>\n",
       "    .dataframe tbody tr th:only-of-type {\n",
       "        vertical-align: middle;\n",
       "    }\n",
       "\n",
       "    .dataframe tbody tr th {\n",
       "        vertical-align: top;\n",
       "    }\n",
       "\n",
       "    .dataframe thead th {\n",
       "        text-align: right;\n",
       "    }\n",
       "</style>\n",
       "<table border=\"1\" class=\"dataframe\">\n",
       "  <thead>\n",
       "    <tr style=\"text-align: right;\">\n",
       "      <th></th>\n",
       "      <th>node_from</th>\n",
       "      <th>node_to</th>\n",
       "      <th>distance</th>\n",
       "    </tr>\n",
       "  </thead>\n",
       "  <tbody>\n",
       "    <tr>\n",
       "      <th>0</th>\n",
       "      <td>1</td>\n",
       "      <td>2</td>\n",
       "      <td>220</td>\n",
       "    </tr>\n",
       "    <tr>\n",
       "      <th>1</th>\n",
       "      <td>1</td>\n",
       "      <td>3</td>\n",
       "      <td>1500</td>\n",
       "    </tr>\n",
       "    <tr>\n",
       "      <th>2</th>\n",
       "      <td>2</td>\n",
       "      <td>4</td>\n",
       "      <td>650</td>\n",
       "    </tr>\n",
       "    <tr>\n",
       "      <th>3</th>\n",
       "      <td>2</td>\n",
       "      <td>5</td>\n",
       "      <td>900</td>\n",
       "    </tr>\n",
       "    <tr>\n",
       "      <th>4</th>\n",
       "      <td>4</td>\n",
       "      <td>7</td>\n",
       "      <td>500</td>\n",
       "    </tr>\n",
       "    <tr>\n",
       "      <th>5</th>\n",
       "      <td>5</td>\n",
       "      <td>7</td>\n",
       "      <td>400</td>\n",
       "    </tr>\n",
       "    <tr>\n",
       "      <th>6</th>\n",
       "      <td>3</td>\n",
       "      <td>6</td>\n",
       "      <td>500</td>\n",
       "    </tr>\n",
       "    <tr>\n",
       "      <th>7</th>\n",
       "      <td>6</td>\n",
       "      <td>7</td>\n",
       "      <td>400</td>\n",
       "    </tr>\n",
       "  </tbody>\n",
       "</table>\n",
       "</div>"
      ],
      "text/plain": [
       "   node_from  node_to  distance\n",
       "0          1        2       220\n",
       "1          1        3      1500\n",
       "2          2        4       650\n",
       "3          2        5       900\n",
       "4          4        7       500\n",
       "5          5        7       400\n",
       "6          3        6       500\n",
       "7          6        7       400"
      ]
     },
     "execution_count": 4,
     "metadata": {},
     "output_type": "execute_result"
    }
   ],
   "source": [
    "paths"
   ]
  },
  {
   "cell_type": "code",
   "execution_count": 6,
   "metadata": {},
   "outputs": [
    {
     "name": "stdout",
     "output_type": "stream",
     "text": [
      "8\n"
     ]
    }
   ],
   "source": [
    "nVars = len(paths)\n",
    "print(nVars)"
   ]
  },
  {
   "cell_type": "code",
   "execution_count": 7,
   "metadata": {},
   "outputs": [],
   "source": [
    "#fitness function\n",
    "def f(x):\n",
    "    pen = 0\n",
    "    \n",
    "    #constraint sum(x) == 1 (origin)\n",
    "    node_origin = int(nodes.node[nodes.description=='origin'])\n",
    "    if sum([x[p] for p in paths.index[paths.node_from==node_origin]]) != 1:\n",
    "        pen += 1000000 * np.abs(sum([x[p] for p in paths.index[paths.node_from==node_origin]]) - 1)\n",
    "    \n",
    "    #constraint sum(x) == 1 (destination)\n",
    "    node_destination = int(nodes.node[nodes.description=='destination'])\n",
    "    if sum([x[p] for p in paths.index[paths.node_to==node_destination]]) != 1:\n",
    "        pen += 1000000 * np.abs(sum([x[p] for p in paths.index[paths.node_to==node_destination]]) - 1)\n",
    "    \n",
    "    #constraint sum(x, in) == sum(x, out), for each node\n",
    "    for node in nodes.node[nodes.description=='middle point']:\n",
    "        sum_in = sum([x[p] for p in paths.index[paths.node_to==node]])\n",
    "        sum_out = sum([x[p] for p in paths.index[paths.node_from==node]])\n",
    "        if sum_in != sum_out:\n",
    "            pen += 1000000 * np.abs(sum_in - sum_out)\n",
    " \n",
    "    #objective function and return\n",
    "    objFun = sum([x[p] * paths.distance[p] for p in paths.index])\n",
    "    return objFun + pen\n",
    "\n",
    "    "
   ]
  },
  {
   "cell_type": "code",
   "execution_count": 8,
   "metadata": {},
   "outputs": [],
   "source": [
    "#bounds and var type\n",
    "varbounds = np.array([[0,1]]*nVars)\n",
    "vartype = np.array([['int']]*nVars)"
   ]
  },
  {
   "cell_type": "code",
   "execution_count": 9,
   "metadata": {},
   "outputs": [],
   "source": [
    "#GA parameters\n",
    "algorithm_param = {'max_num_iteration': 500,\n",
    "                   'population_size':100,\n",
    "                   'mutation_probability':0.30,\n",
    "                   'elit_ratio': 0.10,\n",
    "                   'crossover_probability': 0.50,\n",
    "                   'parents_portion': 0.30,\n",
    "                   'crossover_type':'uniform',\n",
    "                   'max_iteration_without_improv':100}\n"
   ]
  },
  {
   "cell_type": "code",
   "execution_count": 10,
   "metadata": {},
   "outputs": [
    {
     "name": "stdout",
     "output_type": "stream",
     "text": [
      " The best solution found:                                                                           \n",
      " [1. 0. 1. 0. 1. 0. 0. 0.]\n",
      "\n",
      " Objective function:\n",
      " 1370.0\n"
     ]
    },
    {
     "data": {
      "image/png": "[encoded data removed]",
      "text/plain": [
       "<Figure size 640x480 with 1 Axes>"
      ]
     },
     "metadata": {},
     "output_type": "display_data"
    },
    {
     "name": "stdout",
     "output_type": "stream",
     "text": [
      "\n",
      "Warning: GA is terminated due to the maximum number of iterations without improvement was met!"
     ]
    }
   ],
   "source": [
    "#Solve\n",
    "model = ga(function=f,\n",
    "           dimension=nVars,\n",
    "           variable_type_mixed=vartype,\n",
    "           variable_boundaries=varbounds,\n",
    "           algorithm_parameters=algorithm_param)\n",
    "model.run()"
   ]
  },
  {
   "cell_type": "code",
   "execution_count": 11,
   "metadata": {},
   "outputs": [
    {
     "name": "stdout",
     "output_type": "stream",
     "text": [
      "\n",
      "\n",
      "All Paths:\n",
      "   node_from  node_to  distance  activated\n",
      "0          1        2       220          1\n",
      "1          1        3      1500          0\n",
      "2          2        4       650          1\n",
      "3          2        5       900          0\n",
      "4          4        7       500          1\n",
      "5          5        7       400          0\n",
      "6          3        6       500          0\n",
      "7          6        7       400          0\n",
      "\n",
      "Selected Paths:\n",
      "   node_from  node_to  distance  activated\n",
      "0          1        2       220          1\n",
      "2          2        4       650          1\n",
      "4          4        7       500          1\n",
      "\n",
      "Total path: 1370.0\n"
     ]
    }
   ],
   "source": [
    "x = model.best_variable\n",
    "objFun = model.best_function\n",
    "paths['activated'] = 0\n",
    "for p in paths.index:\n",
    "    paths.activated[p] = x[p]\n",
    " \n",
    "print('\\n\\nAll Paths:')\n",
    "print(paths)\n",
    " \n",
    "print('\\nSelected Paths:')\n",
    "print(paths[paths.activated==1])\n",
    " \n",
    "print('\\nTotal path:', objFun)"
   ]
  },
  {
   "cell_type": "code",
   "execution_count": null,
   "metadata": {},
   "outputs": [],
   "source": []
  }
 ],
 "metadata": {
  "kernelspec": {
   "display_name": "Python 3.8.13 ('opt-env')",
   "language": "python",
   "name": "python3"
  },
  "language_info": {
   "codemirror_mode": {
    "name": "ipython",
    "version": 3
   },
   "file_extension": ".py",
   "mimetype": "text/x-python",
   "name": "python",
   "nbconvert_exporter": "python",
   "pygments_lexer": "ipython3",
   "version": "3.8.13"
  },
  "orig_nbformat": 4,
  "vscode": {
   "interpreter": {
    "hash": "6b9056ea96c75a6bb2c54be3bbd461fe96ab3f772e39386dd61ca834c469880f"
   }
  }
 },
 "nbformat": 4,
 "nbformat_minor": 2
}
