{
 "cells": [
  {
   "cell_type": "markdown",
   "metadata": {},
   "source": [
    "![](2022-10-18-12-52-22.png)"
   ]
  },
  {
   "cell_type": "markdown",
   "metadata": {},
   "source": [
    "#### Solving with Non-Linear Programming"
   ]
  },
  {
   "cell_type": "code",
   "execution_count": 1,
   "metadata": {},
   "outputs": [],
   "source": [
    "import pyomo.environ as pyo\n",
    "from pyomo.environ import *\n",
    "from pyomo.opt import SolverFactory\n",
    "import numpy as np"
   ]
  },
  {
   "cell_type": "code",
   "execution_count": 2,
   "metadata": {},
   "outputs": [],
   "source": [
    "model = pyo.ConcreteModel()"
   ]
  },
  {
   "cell_type": "code",
   "execution_count": 3,
   "metadata": {},
   "outputs": [],
   "source": [
    "## Declaring variables\n",
    "\n",
    "model.m1 = pyo.Var(within = Integers, bounds = (0,1000))\n",
    "model.m2 = pyo.Var(within = Integers, bounds = (0,1000))\n",
    "model.m3 = pyo.Var(within = Integers, bounds = (0,1000))"
   ]
  },
  {
   "cell_type": "code",
   "execution_count": 4,
   "metadata": {},
   "outputs": [],
   "source": [
    "m1 = model.m1\n",
    "m2 = model.m2\n",
    "m3 = model.m3"
   ]
  },
  {
   "cell_type": "code",
   "execution_count": 5,
   "metadata": {},
   "outputs": [],
   "source": [
    "## Constraints\n",
    "\n",
    "model.c1 = pyo.Constraint(expr = m1+m2+m3 == 2100)"
   ]
  },
  {
   "cell_type": "code",
   "execution_count": 6,
   "metadata": {},
   "outputs": [],
   "source": [
    "## objective function\n",
    "cost_1 = 0.01 *m1*m1 + 2*m1\n",
    "cost_2 = 6* m2\n",
    "cost_3 = 7* m3\n",
    "total_cost = cost_1+ cost_2 + cost_3\n",
    "\n",
    "model.obj = pyo.Objective(expr = total_cost, sense = minimize)"
   ]
  },
  {
   "cell_type": "code",
   "execution_count": 7,
   "metadata": {},
   "outputs": [],
   "source": [
    "solver = SolverFactory('ipopt')\n",
    "\n",
    "result = solver.solve(model)"
   ]
  },
  {
   "cell_type": "code",
   "execution_count": 8,
   "metadata": {},
   "outputs": [
    {
     "name": "stdout",
     "output_type": "stream",
     "text": [
      "3 Var Declarations\n",
      "    m1 : Size=1, Index=None\n",
      "        Key  : Lower : Value              : Upper : Fixed : Stale : Domain\n",
      "        None :     0 : 250.00000000102202 :  1000 : False : False : Integers\n",
      "    m2 : Size=1, Index=None\n",
      "        Key  : Lower : Value              : Upper : Fixed : Stale : Domain\n",
      "        None :     0 : 1000.0000099974941 :  1000 : False : False : Integers\n",
      "    m3 : Size=1, Index=None\n",
      "        Key  : Lower : Value             : Upper : Fixed : Stale : Domain\n",
      "        None :     0 : 849.9999900014839 :  1000 : False : False : Integers\n",
      "\n",
      "1 Objective Declarations\n",
      "    obj : Size=1, Index=None, Active=True\n",
      "        Key  : Active : Sense    : Expression\n",
      "        None :   True : minimize : 0.01*m1*m1 + 2*m1 + 6*m2 + 7*m3\n",
      "\n",
      "1 Constraint Declarations\n",
      "    c1 : Size=1, Index=None, Active=True\n",
      "        Key  : Lower  : Body         : Upper  : Active\n",
      "        None : 2100.0 : m1 + m2 + m3 : 2100.0 :   True\n",
      "\n",
      "5 Declarations: m1 m2 m3 c1 obj\n"
     ]
    }
   ],
   "source": [
    "model.pprint()"
   ]
  },
  {
   "cell_type": "code",
   "execution_count": 9,
   "metadata": {},
   "outputs": [
    {
     "name": "stdout",
     "output_type": "stream",
     "text": [
      "m1: 250\n",
      "m2: 1000\n",
      "m3: 849\n",
      "Total production : 2100\n"
     ]
    }
   ],
   "source": [
    "print(f\"m1: {int(pyo.value(m1))}\")\n",
    "print(f\"m2: {int(pyo.value(m2))}\")\n",
    "print(f\"m3: {int(pyo.value(m3))}\")\n",
    "\n",
    "print(f\"Total production : {int(pyo.value(m1)+pyo.value(m2)+pyo.value(m3))}\")"
   ]
  },
  {
   "cell_type": "markdown",
   "metadata": {},
   "source": [
    "### Second order cone programming\n"
   ]
  },
  {
   "cell_type": "code",
   "execution_count": 11,
   "metadata": {},
   "outputs": [],
   "source": [
    "model = pyo.ConcreteModel()"
   ]
  },
  {
   "cell_type": "code",
   "execution_count": 12,
   "metadata": {},
   "outputs": [],
   "source": [
    "model.C = pyo.Var(range(1,4))\n",
    "model.n = pyo.Var(range(1,4),within=Integers, bounds = (0,1000))\n",
    "\n",
    "C= model.C\n",
    "n = model.n"
   ]
  },
  {
   "cell_type": "code",
   "execution_count": 13,
   "metadata": {},
   "outputs": [],
   "source": [
    "# objective function\n",
    "model.obj = pyo.Objective(expr = pyo.summation(C))"
   ]
  },
  {
   "cell_type": "code",
   "execution_count": 14,
   "metadata": {},
   "outputs": [],
   "source": [
    "# constraints\n",
    "model.total = pyo.Constraint(expr = pyo.summation(n)== 2100)\n",
    "model.C1 = pyo.Constraint(expr = C[1]== 0.01 *n[1]*n[1] + 2*n[1])\n",
    "model.C2 = pyo.Constraint(expr = C[2]== 6* n[2])\n",
    "model.C3 = pyo.Constraint(expr = C[3]== 7 *n[3])\n",
    "\n"
   ]
  },
  {
   "cell_type": "code",
   "execution_count": 15,
   "metadata": {},
   "outputs": [],
   "source": [
    "opt = SolverFactory('gurobi')"
   ]
  },
  {
   "cell_type": "code",
   "execution_count": 16,
   "metadata": {},
   "outputs": [
    {
     "data": {
      "text/plain": [
       "{'Problem': [{'Name': 'x7', 'Lower bound': 13075.0, 'Upper bound': 13075.0, 'Number of objectives': 1, 'Number of constraints': 5, 'Number of variables': 7, 'Number of binary variables': 0, 'Number of integer variables': 3, 'Number of continuous variables': 4, 'Number of nonzeros': 8, 'Sense': 'minimize'}], 'Solver': [{'Status': 'ok', 'Return code': '0', 'Message': 'Model was solved to optimality (subject to tolerances), and an optimal solution is available.', 'Termination condition': 'optimal', 'Termination message': 'Model was solved to optimality (subject to tolerances), and an optimal solution is available.', 'Wall time': '0.09019899368286133', 'Error rc': 0, 'Time': 0.3617546558380127}], 'Solution': [OrderedDict([('number of solutions', 0), ('number of solutions displayed', 0)])]}"
      ]
     },
     "execution_count": 16,
     "metadata": {},
     "output_type": "execute_result"
    }
   ],
   "source": [
    "opt.solve(model)"
   ]
  },
  {
   "cell_type": "code",
   "execution_count": 17,
   "metadata": {},
   "outputs": [
    {
     "name": "stdout",
     "output_type": "stream",
     "text": [
      "2 Set Declarations\n",
      "    C_index : Size=1, Index=None, Ordered=Insertion\n",
      "        Key  : Dimen : Domain : Size : Members\n",
      "        None :     1 :    Any :    3 : {1, 2, 3}\n",
      "    n_index : Size=1, Index=None, Ordered=Insertion\n",
      "        Key  : Dimen : Domain : Size : Members\n",
      "        None :     1 :    Any :    3 : {1, 2, 3}\n",
      "\n",
      "2 Var Declarations\n",
      "    C : Size=3, Index=C_index\n",
      "        Key : Lower : Value  : Upper : Fixed : Stale : Domain\n",
      "          1 :  None : 1125.0 :  None : False : False :  Reals\n",
      "          2 :  None : 6000.0 :  None : False : False :  Reals\n",
      "          3 :  None : 5950.0 :  None : False : False :  Reals\n",
      "    n : Size=3, Index=n_index\n",
      "        Key : Lower : Value  : Upper : Fixed : Stale : Domain\n",
      "          1 :     0 :  250.0 :  1000 : False : False : Integers\n",
      "          2 :     0 : 1000.0 :  1000 : False : False : Integers\n",
      "          3 :     0 :  850.0 :  1000 : False : False : Integers\n",
      "\n",
      "1 Objective Declarations\n",
      "    obj : Size=1, Index=None, Active=True\n",
      "        Key  : Active : Sense    : Expression\n",
      "        None :   True : minimize : C[1] + C[2] + C[3]\n",
      "\n",
      "4 Constraint Declarations\n",
      "    C1 : Size=1, Index=None, Active=True\n",
      "        Key  : Lower : Body                             : Upper : Active\n",
      "        None :   0.0 : C[1] - (0.01*n[1]*n[1] + 2*n[1]) :   0.0 :   True\n",
      "    C2 : Size=1, Index=None, Active=True\n",
      "        Key  : Lower : Body          : Upper : Active\n",
      "        None :   0.0 : C[2] - 6*n[2] :   0.0 :   True\n",
      "    C3 : Size=1, Index=None, Active=True\n",
      "        Key  : Lower : Body          : Upper : Active\n",
      "        None :   0.0 : C[3] - 7*n[3] :   0.0 :   True\n",
      "    total : Size=1, Index=None, Active=True\n",
      "        Key  : Lower  : Body               : Upper  : Active\n",
      "        None : 2100.0 : n[1] + n[2] + n[3] : 2100.0 :   True\n",
      "\n",
      "9 Declarations: C_index C n_index n obj total C1 C2 C3\n"
     ]
    }
   ],
   "source": [
    "model.pprint()"
   ]
  },
  {
   "cell_type": "code",
   "execution_count": 20,
   "metadata": {},
   "outputs": [
    {
     "name": "stdout",
     "output_type": "stream",
     "text": [
      "m1: 250\n",
      "m2: 1000\n",
      "m3: 850\n",
      "Total production : 2100\n",
      "Total production cpst : 13075\n"
     ]
    }
   ],
   "source": [
    "print(f\"m1: {int(pyo.value(n[1]))}\")\n",
    "print(f\"m2: {int(pyo.value(n[2]))}\")\n",
    "print(f\"m3: {int(pyo.value(n[3]))}\")\n",
    "\n",
    "print(f\"Total production : {int(pyo.value(n[1])+pyo.value(n[2])+pyo.value(n[3]))}\")\n",
    "print(f\"Total production cpst : {int(pyo.value(C[1])+pyo.value(C[2])+pyo.value(C[3]))}\")"
   ]
  },
  {
   "cell_type": "code",
   "execution_count": null,
   "metadata": {},
   "outputs": [],
   "source": []
  }
 ],
 "metadata": {
  "kernelspec": {
   "display_name": "Python 3.8.13 ('opt-env')",
   "language": "python",
   "name": "python3"
  },
  "language_info": {
   "codemirror_mode": {
    "name": "ipython",
    "version": 3
   },
   "file_extension": ".py",
   "mimetype": "text/x-python",
   "name": "python",
   "nbconvert_exporter": "python",
   "pygments_lexer": "ipython3",
   "version": "3.8.13"
  },
  "orig_nbformat": 4,
  "vscode": {
   "interpreter": {
    "hash": "6b9056ea96c75a6bb2c54be3bbd461fe96ab3f772e39386dd61ca834c469880f"
   }
  }
 },
 "nbformat": 4,
 "nbformat_minor": 2
}
